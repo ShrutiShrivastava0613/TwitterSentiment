{
  "nbformat": 4,
  "nbformat_minor": 0,
  "metadata": {
    "colab": {
      "name": "WebApp_MP.ipynb",
      "provenance": [],
      "authorship_tag": "ABX9TyPyAp9E4vai4omUyWCIxXvI",
      "include_colab_link": true
    },
    "kernelspec": {
      "name": "python3",
      "display_name": "Python 3"
    },
    "language_info": {
      "name": "python"
    }
  },
  "cells": [
    {
      "cell_type": "markdown",
      "metadata": {
        "id": "view-in-github",
        "colab_type": "text"
      },
      "source": [
        "<a href=\"https://colab.research.google.com/github/ShrutiShrivastava0613/TwitterSentiment/blob/main/WebApp_MP.ipynb\" target=\"_parent\"><img src=\"https://colab.research.google.com/assets/colab-badge.svg\" alt=\"Open In Colab\"/></a>"
      ]
    },
    {
      "cell_type": "code",
      "execution_count": null,
      "metadata": {
        "id": "zt3niWCtYNKD"
      },
      "outputs": [],
      "source": [
        "#CREATING A WEB APP USING STREAMLIT"
      ]
    },
    {
      "cell_type": "code",
      "source": [
        "!pip install streamlit --quiet"
      ],
      "metadata": {
        "id": "QZ-jmiSQZRr0"
      },
      "execution_count": 4,
      "outputs": []
    },
    {
      "cell_type": "code",
      "source": [
        "%%writefile app.py \n",
        "import streamlit as st\n",
        "import joblib\n",
        "model=joblib.load('Tweets.csv') \n",
        "st.title('TWITTER AIRLINE SENTIMENT CLASSIFIER')\n",
        "ip=st.text_input('Enter the message :') #creates a txtbox\n",
        "op=model.predict([ip])\n",
        "if st.button('Predict'):\n",
        "  st.title(op[0])"
      ],
      "metadata": {
        "colab": {
          "base_uri": "https://localhost:8080/"
        },
        "id": "sIRZNJErehlQ",
        "outputId": "0cf0b86e-f9da-4bc8-d4dc-ca94b6120daf"
      },
      "execution_count": 6,
      "outputs": [
        {
          "output_type": "stream",
          "name": "stdout",
          "text": [
            "Overwriting app.py\n"
          ]
        }
      ]
    }
  ]
}